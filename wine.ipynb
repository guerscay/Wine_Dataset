{
 "cells": [
  {
   "cell_type": "markdown",
   "metadata": {},
   "source": [
    "Proyecto Final: Machine Learning para Clasificar la variedad de los Vinos de la empresa JP 🍇🍷\n",
    "Desarrollado por: Julio Paredes\n",
    "\n",
    "En este proyecto, realizaremos un análisis exploratorio de datos sobre el conjunto de datos de vinos. \n",
    "El objetivo es comprender mejor las características que influyen en la calidad del vino y explorar posibles patrones \n",
    "y relaciones entre estas características. El conjunto de datos contiene información sobre diversas propiedades \n",
    "físico-químicas de vinos, así como su calidad percibida. Utilizaremos técnicas de visualización y \n",
    "resúmenes estadísticos para analizar los datos y responder preguntas clave que permitan clasificar \n",
    "los vinos eficientemente mediante un modelo ML.\n",
    "\n",
    "Preguntas e Hipótesis de Interés (partimos por lo menos con tres preguntas)\n",
    "¿Existe alguna relación entre las propiedades físico-químicas de los vinos y su calidad percibida?\n",
    "¿Qué características tienen mayor impacto en la calidad del vino?\n",
    "¿Cómo varían las propiedades del vino en función de su calidad?\n",
    "¿Se podrá aplicar algún algoritmo ML que permita conocer la calidad de los vinos y ver a que clase pertenece?\n",
    "El objetivo de este código es realizar un ejercicio de clasificación utilizando un modelo de regresión logística en \n",
    "un conjunto de datos de vinos.\n",
    "\n",
    "Análisis Exploratorio de Datos\n",
    "Realizaremos un análisis exploratorio de datos utilizando gráficos interactivos y resúmenes numéricos para responder \n",
    "nuestras preguntas de interés y explorar insights preliminares sobre el conjunto de datos de vinos.\n",
    "\n",
    "Verificación de Valores Nulos\n",
    "Primero, verificaremos si hay valores nulos en el conjunto de datos y manejaremos los valores faltantes si es necesario.\n",
    "\n",
    "Visualizaciones Interactivas\n",
    "Utilizaremos gráficos interactivos para explorar las relaciones entre las características del vino y su calidad percibida. \n",
    "Esto nos permitirá visualizar patrones y tendencias de manera más dinámica."
   ]
  },
  {
   "cell_type": "code",
   "execution_count": 2,
   "metadata": {},
   "outputs": [],
   "source": [
    "## LIBRERÍAS ##\n",
    " \n",
    "import numpy as np\n",
    "import pandas as pd\n",
    "import matplotlib.pyplot as plt\n",
    "import seaborn as sns\n",
    "import plotly.express as pex\n",
    "import altair as alt\n",
    "from sklearn.model_selection import train_test_split\n",
    "from sklearn.preprocessing import StandardScaler\n",
    "from sklearn.linear_model import LogisticRegression\n",
    "from sklearn.metrics import classification_report, confusion_matrix, accuracy_score"
   ]
  },
  {
   "cell_type": "code",
   "execution_count": 3,
   "metadata": {},
   "outputs": [
    {
     "data": {
      "text/html": [
       "<div>\n",
       "<style scoped>\n",
       "    .dataframe tbody tr th:only-of-type {\n",
       "        vertical-align: middle;\n",
       "    }\n",
       "\n",
       "    .dataframe tbody tr th {\n",
       "        vertical-align: top;\n",
       "    }\n",
       "\n",
       "    .dataframe thead th {\n",
       "        text-align: right;\n",
       "    }\n",
       "</style>\n",
       "<table border=\"1\" class=\"dataframe\">\n",
       "  <thead>\n",
       "    <tr style=\"text-align: right;\">\n",
       "      <th></th>\n",
       "      <th>Type</th>\n",
       "      <th>fixed acidity</th>\n",
       "      <th>volatile acidity</th>\n",
       "      <th>citric acid</th>\n",
       "      <th>residual sugar</th>\n",
       "      <th>chlorides</th>\n",
       "      <th>free sulfur dioxide</th>\n",
       "      <th>total sulfur dioxide</th>\n",
       "      <th>density</th>\n",
       "      <th>pH</th>\n",
       "      <th>sulphates</th>\n",
       "      <th>alcohol</th>\n",
       "      <th>quality</th>\n",
       "    </tr>\n",
       "  </thead>\n",
       "  <tbody>\n",
       "    <tr>\n",
       "      <th>0</th>\n",
       "      <td>red</td>\n",
       "      <td>7.4</td>\n",
       "      <td>0.70</td>\n",
       "      <td>0.00</td>\n",
       "      <td>1.9</td>\n",
       "      <td>0.076</td>\n",
       "      <td>11.0</td>\n",
       "      <td>34.0</td>\n",
       "      <td>0.9978</td>\n",
       "      <td>3.51</td>\n",
       "      <td>0.56</td>\n",
       "      <td>9.4</td>\n",
       "      <td>5</td>\n",
       "    </tr>\n",
       "    <tr>\n",
       "      <th>1</th>\n",
       "      <td>red</td>\n",
       "      <td>7.8</td>\n",
       "      <td>0.88</td>\n",
       "      <td>0.00</td>\n",
       "      <td>2.6</td>\n",
       "      <td>0.098</td>\n",
       "      <td>25.0</td>\n",
       "      <td>67.0</td>\n",
       "      <td>0.9968</td>\n",
       "      <td>3.20</td>\n",
       "      <td>0.68</td>\n",
       "      <td>9.8</td>\n",
       "      <td>5</td>\n",
       "    </tr>\n",
       "    <tr>\n",
       "      <th>2</th>\n",
       "      <td>red</td>\n",
       "      <td>7.8</td>\n",
       "      <td>0.76</td>\n",
       "      <td>0.04</td>\n",
       "      <td>2.3</td>\n",
       "      <td>0.092</td>\n",
       "      <td>15.0</td>\n",
       "      <td>54.0</td>\n",
       "      <td>0.9970</td>\n",
       "      <td>3.26</td>\n",
       "      <td>0.65</td>\n",
       "      <td>9.8</td>\n",
       "      <td>5</td>\n",
       "    </tr>\n",
       "    <tr>\n",
       "      <th>3</th>\n",
       "      <td>red</td>\n",
       "      <td>11.2</td>\n",
       "      <td>0.28</td>\n",
       "      <td>0.56</td>\n",
       "      <td>1.9</td>\n",
       "      <td>0.075</td>\n",
       "      <td>17.0</td>\n",
       "      <td>60.0</td>\n",
       "      <td>0.9980</td>\n",
       "      <td>3.16</td>\n",
       "      <td>0.58</td>\n",
       "      <td>9.8</td>\n",
       "      <td>6</td>\n",
       "    </tr>\n",
       "    <tr>\n",
       "      <th>4</th>\n",
       "      <td>red</td>\n",
       "      <td>7.4</td>\n",
       "      <td>0.70</td>\n",
       "      <td>0.00</td>\n",
       "      <td>1.9</td>\n",
       "      <td>0.076</td>\n",
       "      <td>11.0</td>\n",
       "      <td>34.0</td>\n",
       "      <td>0.9978</td>\n",
       "      <td>3.51</td>\n",
       "      <td>0.56</td>\n",
       "      <td>9.4</td>\n",
       "      <td>5</td>\n",
       "    </tr>\n",
       "  </tbody>\n",
       "</table>\n",
       "</div>"
      ],
      "text/plain": [
       "  Type  fixed acidity  volatile acidity  citric acid  residual sugar  \\\n",
       "0  red            7.4              0.70         0.00             1.9   \n",
       "1  red            7.8              0.88         0.00             2.6   \n",
       "2  red            7.8              0.76         0.04             2.3   \n",
       "3  red           11.2              0.28         0.56             1.9   \n",
       "4  red            7.4              0.70         0.00             1.9   \n",
       "\n",
       "   chlorides  free sulfur dioxide  total sulfur dioxide  density    pH  \\\n",
       "0      0.076                 11.0                  34.0   0.9978  3.51   \n",
       "1      0.098                 25.0                  67.0   0.9968  3.20   \n",
       "2      0.092                 15.0                  54.0   0.9970  3.26   \n",
       "3      0.075                 17.0                  60.0   0.9980  3.16   \n",
       "4      0.076                 11.0                  34.0   0.9978  3.51   \n",
       "\n",
       "   sulphates  alcohol  quality  \n",
       "0       0.56      9.4        5  \n",
       "1       0.68      9.8        5  \n",
       "2       0.65      9.8        5  \n",
       "3       0.58      9.8        6  \n",
       "4       0.56      9.4        5  "
      ]
     },
     "execution_count": 3,
     "metadata": {},
     "output_type": "execute_result"
    }
   ],
   "source": [
    "## Carga del Dataset\n",
    "\n",
    "df = pd.read_csv('wine.csv')\n",
    "df.head()       # quick view"
   ]
  },
  {
   "cell_type": "code",
   "execution_count": 4,
   "metadata": {},
   "outputs": [
    {
     "data": {
      "text/plain": [
       "(6497, 13)"
      ]
     },
     "execution_count": 4,
     "metadata": {},
     "output_type": "execute_result"
    }
   ],
   "source": [
    "## Preprocesamiento\n",
    "\n",
    "df.shape     # filas * columnas"
   ]
  },
  {
   "cell_type": "code",
   "execution_count": 5,
   "metadata": {},
   "outputs": [
    {
     "name": "stdout",
     "output_type": "stream",
     "text": [
      "<class 'pandas.core.frame.DataFrame'>\n",
      "RangeIndex: 6497 entries, 0 to 6496\n",
      "Data columns (total 13 columns):\n",
      " #   Column                Non-Null Count  Dtype  \n",
      "---  ------                --------------  -----  \n",
      " 0   Type                  6497 non-null   object \n",
      " 1   fixed acidity         6497 non-null   float64\n",
      " 2   volatile acidity      6497 non-null   float64\n",
      " 3   citric acid           6497 non-null   float64\n",
      " 4   residual sugar        6497 non-null   float64\n",
      " 5   chlorides             6497 non-null   float64\n",
      " 6   free sulfur dioxide   6497 non-null   float64\n",
      " 7   total sulfur dioxide  6497 non-null   float64\n",
      " 8   density               6497 non-null   float64\n",
      " 9   pH                    6497 non-null   float64\n",
      " 10  sulphates             6497 non-null   float64\n",
      " 11  alcohol               6497 non-null   float64\n",
      " 12  quality               6497 non-null   int64  \n",
      "dtypes: float64(11), int64(1), object(1)\n",
      "memory usage: 660.0+ KB\n"
     ]
    }
   ],
   "source": [
    "## Preprocesamiento\n",
    "\n",
    "df.info()   # tipo de dato"
   ]
  },
  {
   "cell_type": "code",
   "execution_count": 6,
   "metadata": {},
   "outputs": [
    {
     "data": {
      "text/html": [
       "<div>\n",
       "<style scoped>\n",
       "    .dataframe tbody tr th:only-of-type {\n",
       "        vertical-align: middle;\n",
       "    }\n",
       "\n",
       "    .dataframe tbody tr th {\n",
       "        vertical-align: top;\n",
       "    }\n",
       "\n",
       "    .dataframe thead th {\n",
       "        text-align: right;\n",
       "    }\n",
       "</style>\n",
       "<table border=\"1\" class=\"dataframe\">\n",
       "  <thead>\n",
       "    <tr style=\"text-align: right;\">\n",
       "      <th></th>\n",
       "      <th>Type</th>\n",
       "      <th>fixed acidity</th>\n",
       "      <th>volatile acidity</th>\n",
       "      <th>citric acid</th>\n",
       "      <th>residual sugar</th>\n",
       "      <th>chlorides</th>\n",
       "      <th>free sulfur dioxide</th>\n",
       "      <th>total sulfur dioxide</th>\n",
       "      <th>density</th>\n",
       "      <th>pH</th>\n",
       "      <th>sulphates</th>\n",
       "      <th>alcohol</th>\n",
       "      <th>quality</th>\n",
       "    </tr>\n",
       "  </thead>\n",
       "  <tbody>\n",
       "    <tr>\n",
       "      <th>0</th>\n",
       "      <td>False</td>\n",
       "      <td>False</td>\n",
       "      <td>False</td>\n",
       "      <td>False</td>\n",
       "      <td>False</td>\n",
       "      <td>False</td>\n",
       "      <td>False</td>\n",
       "      <td>False</td>\n",
       "      <td>False</td>\n",
       "      <td>False</td>\n",
       "      <td>False</td>\n",
       "      <td>False</td>\n",
       "      <td>False</td>\n",
       "    </tr>\n",
       "    <tr>\n",
       "      <th>1</th>\n",
       "      <td>False</td>\n",
       "      <td>False</td>\n",
       "      <td>False</td>\n",
       "      <td>False</td>\n",
       "      <td>False</td>\n",
       "      <td>False</td>\n",
       "      <td>False</td>\n",
       "      <td>False</td>\n",
       "      <td>False</td>\n",
       "      <td>False</td>\n",
       "      <td>False</td>\n",
       "      <td>False</td>\n",
       "      <td>False</td>\n",
       "    </tr>\n",
       "    <tr>\n",
       "      <th>2</th>\n",
       "      <td>False</td>\n",
       "      <td>False</td>\n",
       "      <td>False</td>\n",
       "      <td>False</td>\n",
       "      <td>False</td>\n",
       "      <td>False</td>\n",
       "      <td>False</td>\n",
       "      <td>False</td>\n",
       "      <td>False</td>\n",
       "      <td>False</td>\n",
       "      <td>False</td>\n",
       "      <td>False</td>\n",
       "      <td>False</td>\n",
       "    </tr>\n",
       "    <tr>\n",
       "      <th>3</th>\n",
       "      <td>False</td>\n",
       "      <td>False</td>\n",
       "      <td>False</td>\n",
       "      <td>False</td>\n",
       "      <td>False</td>\n",
       "      <td>False</td>\n",
       "      <td>False</td>\n",
       "      <td>False</td>\n",
       "      <td>False</td>\n",
       "      <td>False</td>\n",
       "      <td>False</td>\n",
       "      <td>False</td>\n",
       "      <td>False</td>\n",
       "    </tr>\n",
       "    <tr>\n",
       "      <th>4</th>\n",
       "      <td>False</td>\n",
       "      <td>False</td>\n",
       "      <td>False</td>\n",
       "      <td>False</td>\n",
       "      <td>False</td>\n",
       "      <td>False</td>\n",
       "      <td>False</td>\n",
       "      <td>False</td>\n",
       "      <td>False</td>\n",
       "      <td>False</td>\n",
       "      <td>False</td>\n",
       "      <td>False</td>\n",
       "      <td>False</td>\n",
       "    </tr>\n",
       "    <tr>\n",
       "      <th>...</th>\n",
       "      <td>...</td>\n",
       "      <td>...</td>\n",
       "      <td>...</td>\n",
       "      <td>...</td>\n",
       "      <td>...</td>\n",
       "      <td>...</td>\n",
       "      <td>...</td>\n",
       "      <td>...</td>\n",
       "      <td>...</td>\n",
       "      <td>...</td>\n",
       "      <td>...</td>\n",
       "      <td>...</td>\n",
       "      <td>...</td>\n",
       "    </tr>\n",
       "    <tr>\n",
       "      <th>6492</th>\n",
       "      <td>False</td>\n",
       "      <td>False</td>\n",
       "      <td>False</td>\n",
       "      <td>False</td>\n",
       "      <td>False</td>\n",
       "      <td>False</td>\n",
       "      <td>False</td>\n",
       "      <td>False</td>\n",
       "      <td>False</td>\n",
       "      <td>False</td>\n",
       "      <td>False</td>\n",
       "      <td>False</td>\n",
       "      <td>False</td>\n",
       "    </tr>\n",
       "    <tr>\n",
       "      <th>6493</th>\n",
       "      <td>False</td>\n",
       "      <td>False</td>\n",
       "      <td>False</td>\n",
       "      <td>False</td>\n",
       "      <td>False</td>\n",
       "      <td>False</td>\n",
       "      <td>False</td>\n",
       "      <td>False</td>\n",
       "      <td>False</td>\n",
       "      <td>False</td>\n",
       "      <td>False</td>\n",
       "      <td>False</td>\n",
       "      <td>False</td>\n",
       "    </tr>\n",
       "    <tr>\n",
       "      <th>6494</th>\n",
       "      <td>False</td>\n",
       "      <td>False</td>\n",
       "      <td>False</td>\n",
       "      <td>False</td>\n",
       "      <td>False</td>\n",
       "      <td>False</td>\n",
       "      <td>False</td>\n",
       "      <td>False</td>\n",
       "      <td>False</td>\n",
       "      <td>False</td>\n",
       "      <td>False</td>\n",
       "      <td>False</td>\n",
       "      <td>False</td>\n",
       "    </tr>\n",
       "    <tr>\n",
       "      <th>6495</th>\n",
       "      <td>False</td>\n",
       "      <td>False</td>\n",
       "      <td>False</td>\n",
       "      <td>False</td>\n",
       "      <td>False</td>\n",
       "      <td>False</td>\n",
       "      <td>False</td>\n",
       "      <td>False</td>\n",
       "      <td>False</td>\n",
       "      <td>False</td>\n",
       "      <td>False</td>\n",
       "      <td>False</td>\n",
       "      <td>False</td>\n",
       "    </tr>\n",
       "    <tr>\n",
       "      <th>6496</th>\n",
       "      <td>False</td>\n",
       "      <td>False</td>\n",
       "      <td>False</td>\n",
       "      <td>False</td>\n",
       "      <td>False</td>\n",
       "      <td>False</td>\n",
       "      <td>False</td>\n",
       "      <td>False</td>\n",
       "      <td>False</td>\n",
       "      <td>False</td>\n",
       "      <td>False</td>\n",
       "      <td>False</td>\n",
       "      <td>False</td>\n",
       "    </tr>\n",
       "  </tbody>\n",
       "</table>\n",
       "<p>6497 rows × 13 columns</p>\n",
       "</div>"
      ],
      "text/plain": [
       "       Type  fixed acidity  volatile acidity  citric acid  residual sugar  \\\n",
       "0     False          False             False        False           False   \n",
       "1     False          False             False        False           False   \n",
       "2     False          False             False        False           False   \n",
       "3     False          False             False        False           False   \n",
       "4     False          False             False        False           False   \n",
       "...     ...            ...               ...          ...             ...   \n",
       "6492  False          False             False        False           False   \n",
       "6493  False          False             False        False           False   \n",
       "6494  False          False             False        False           False   \n",
       "6495  False          False             False        False           False   \n",
       "6496  False          False             False        False           False   \n",
       "\n",
       "      chlorides  free sulfur dioxide  total sulfur dioxide  density     pH  \\\n",
       "0         False                False                 False    False  False   \n",
       "1         False                False                 False    False  False   \n",
       "2         False                False                 False    False  False   \n",
       "3         False                False                 False    False  False   \n",
       "4         False                False                 False    False  False   \n",
       "...         ...                  ...                   ...      ...    ...   \n",
       "6492      False                False                 False    False  False   \n",
       "6493      False                False                 False    False  False   \n",
       "6494      False                False                 False    False  False   \n",
       "6495      False                False                 False    False  False   \n",
       "6496      False                False                 False    False  False   \n",
       "\n",
       "      sulphates  alcohol  quality  \n",
       "0         False    False    False  \n",
       "1         False    False    False  \n",
       "2         False    False    False  \n",
       "3         False    False    False  \n",
       "4         False    False    False  \n",
       "...         ...      ...      ...  \n",
       "6492      False    False    False  \n",
       "6493      False    False    False  \n",
       "6494      False    False    False  \n",
       "6495      False    False    False  \n",
       "6496      False    False    False  \n",
       "\n",
       "[6497 rows x 13 columns]"
      ]
     },
     "execution_count": 6,
     "metadata": {},
     "output_type": "execute_result"
    }
   ],
   "source": [
    "## Preprocesamiento\n",
    "\n",
    "df.isna()   #Devuelve el dataset en FALSE/TRUE, siendo TRUE los valores nulos (gemelo de df.isnull())"
   ]
  },
  {
   "cell_type": "code",
   "execution_count": 7,
   "metadata": {},
   "outputs": [
    {
     "data": {
      "text/plain": [
       "Type                    0.0\n",
       "fixed acidity           0.0\n",
       "volatile acidity        0.0\n",
       "citric acid             0.0\n",
       "residual sugar          0.0\n",
       "chlorides               0.0\n",
       "free sulfur dioxide     0.0\n",
       "total sulfur dioxide    0.0\n",
       "density                 0.0\n",
       "pH                      0.0\n",
       "sulphates               0.0\n",
       "alcohol                 0.0\n",
       "quality                 0.0\n",
       "dtype: float64"
      ]
     },
     "execution_count": 8,
     "metadata": {},
     "output_type": "execute_result"
    }
   ],
   "source": [
    "## Preprocesamiento\n",
    "\n",
    "(df.isna().sum() / df.shape[0]) * 100  # Percentage of missing values per column\n",
    "\n",
    "# df.isna() - Returns a DataFrame of the same shape as df with True for missing values.\n",
    "# .sum() - Counts True values (missing values) for each column.\n",
    "# df.shape[0] - Retrieves the number of rows in the DataFrame (the first element of the tuple df.shape). = 6497\n"
   ]
  },
  {
   "cell_type": "markdown",
   "metadata": {},
   "source": [
    "mi dataset tiene valores numericos en casi todas las columnas excepto en type, porque aca se toma informacion de vinos tintos y vinos blancos (red & white). Hacer el analisis para todos los vinos seria un error porque las caracteristicas de estos vinos son inherentemente diferentes, por lo que se decide eliminar todos los valores de \"white\" y convervar solo los \"red\", procediendo a la eliminacion de la columna totalmente"
   ]
  },
  {
   "cell_type": "code",
   "execution_count": 9,
   "metadata": {},
   "outputs": [],
   "source": [
    "# El nuevo dataset \"red\" se crea eliminando las filas que tengan \"white\"\n",
    "df = df[~df['Type'].str.contains('white', case=False)]"
   ]
  },
  {
   "cell_type": "code",
   "execution_count": 10,
   "metadata": {},
   "outputs": [],
   "source": [
    "# y ahora elimino la columna 'tipo'\n",
    "\n",
    "df = df.drop(columns = ['Type'])"
   ]
  },
  {
   "cell_type": "code",
   "execution_count": 11,
   "metadata": {},
   "outputs": [
    {
     "data": {
      "text/html": [
       "<div>\n",
       "<style scoped>\n",
       "    .dataframe tbody tr th:only-of-type {\n",
       "        vertical-align: middle;\n",
       "    }\n",
       "\n",
       "    .dataframe tbody tr th {\n",
       "        vertical-align: top;\n",
       "    }\n",
       "\n",
       "    .dataframe thead th {\n",
       "        text-align: right;\n",
       "    }\n",
       "</style>\n",
       "<table border=\"1\" class=\"dataframe\">\n",
       "  <thead>\n",
       "    <tr style=\"text-align: right;\">\n",
       "      <th></th>\n",
       "      <th>fixed acidity</th>\n",
       "      <th>volatile acidity</th>\n",
       "      <th>citric acid</th>\n",
       "      <th>residual sugar</th>\n",
       "      <th>chlorides</th>\n",
       "      <th>free sulfur dioxide</th>\n",
       "      <th>total sulfur dioxide</th>\n",
       "      <th>density</th>\n",
       "      <th>pH</th>\n",
       "      <th>sulphates</th>\n",
       "      <th>alcohol</th>\n",
       "      <th>quality</th>\n",
       "    </tr>\n",
       "  </thead>\n",
       "  <tbody>\n",
       "    <tr>\n",
       "      <th>0</th>\n",
       "      <td>7.4</td>\n",
       "      <td>0.70</td>\n",
       "      <td>0.00</td>\n",
       "      <td>1.9</td>\n",
       "      <td>0.076</td>\n",
       "      <td>11.0</td>\n",
       "      <td>34.0</td>\n",
       "      <td>0.9978</td>\n",
       "      <td>3.51</td>\n",
       "      <td>0.56</td>\n",
       "      <td>9.4</td>\n",
       "      <td>5</td>\n",
       "    </tr>\n",
       "    <tr>\n",
       "      <th>1</th>\n",
       "      <td>7.8</td>\n",
       "      <td>0.88</td>\n",
       "      <td>0.00</td>\n",
       "      <td>2.6</td>\n",
       "      <td>0.098</td>\n",
       "      <td>25.0</td>\n",
       "      <td>67.0</td>\n",
       "      <td>0.9968</td>\n",
       "      <td>3.20</td>\n",
       "      <td>0.68</td>\n",
       "      <td>9.8</td>\n",
       "      <td>5</td>\n",
       "    </tr>\n",
       "    <tr>\n",
       "      <th>2</th>\n",
       "      <td>7.8</td>\n",
       "      <td>0.76</td>\n",
       "      <td>0.04</td>\n",
       "      <td>2.3</td>\n",
       "      <td>0.092</td>\n",
       "      <td>15.0</td>\n",
       "      <td>54.0</td>\n",
       "      <td>0.9970</td>\n",
       "      <td>3.26</td>\n",
       "      <td>0.65</td>\n",
       "      <td>9.8</td>\n",
       "      <td>5</td>\n",
       "    </tr>\n",
       "    <tr>\n",
       "      <th>3</th>\n",
       "      <td>11.2</td>\n",
       "      <td>0.28</td>\n",
       "      <td>0.56</td>\n",
       "      <td>1.9</td>\n",
       "      <td>0.075</td>\n",
       "      <td>17.0</td>\n",
       "      <td>60.0</td>\n",
       "      <td>0.9980</td>\n",
       "      <td>3.16</td>\n",
       "      <td>0.58</td>\n",
       "      <td>9.8</td>\n",
       "      <td>6</td>\n",
       "    </tr>\n",
       "    <tr>\n",
       "      <th>4</th>\n",
       "      <td>7.4</td>\n",
       "      <td>0.70</td>\n",
       "      <td>0.00</td>\n",
       "      <td>1.9</td>\n",
       "      <td>0.076</td>\n",
       "      <td>11.0</td>\n",
       "      <td>34.0</td>\n",
       "      <td>0.9978</td>\n",
       "      <td>3.51</td>\n",
       "      <td>0.56</td>\n",
       "      <td>9.4</td>\n",
       "      <td>5</td>\n",
       "    </tr>\n",
       "  </tbody>\n",
       "</table>\n",
       "</div>"
      ],
      "text/plain": [
       "   fixed acidity  volatile acidity  citric acid  residual sugar  chlorides  \\\n",
       "0            7.4              0.70         0.00             1.9      0.076   \n",
       "1            7.8              0.88         0.00             2.6      0.098   \n",
       "2            7.8              0.76         0.04             2.3      0.092   \n",
       "3           11.2              0.28         0.56             1.9      0.075   \n",
       "4            7.4              0.70         0.00             1.9      0.076   \n",
       "\n",
       "   free sulfur dioxide  total sulfur dioxide  density    pH  sulphates  \\\n",
       "0                 11.0                  34.0   0.9978  3.51       0.56   \n",
       "1                 25.0                  67.0   0.9968  3.20       0.68   \n",
       "2                 15.0                  54.0   0.9970  3.26       0.65   \n",
       "3                 17.0                  60.0   0.9980  3.16       0.58   \n",
       "4                 11.0                  34.0   0.9978  3.51       0.56   \n",
       "\n",
       "   alcohol  quality  \n",
       "0      9.4        5  \n",
       "1      9.8        5  \n",
       "2      9.8        5  \n",
       "3      9.8        6  \n",
       "4      9.4        5  "
      ]
     },
     "execution_count": 11,
     "metadata": {},
     "output_type": "execute_result"
    }
   ],
   "source": [
    "df.head()"
   ]
  },
  {
   "cell_type": "code",
   "execution_count": 12,
   "metadata": {},
   "outputs": [
    {
     "data": {
      "text/plain": [
       "(1599, 12)"
      ]
     },
     "execution_count": 12,
     "metadata": {},
     "output_type": "execute_result"
    }
   ],
   "source": [
    "df.shape"
   ]
  },
  {
   "cell_type": "code",
   "execution_count": 13,
   "metadata": {},
   "outputs": [
    {
     "name": "stdout",
     "output_type": "stream",
     "text": [
      "                      fixed acidity  volatile acidity  citric acid  \\\n",
      "fixed acidity              1.000000         -0.256131     0.671703   \n",
      "volatile acidity          -0.256131          1.000000    -0.552496   \n",
      "citric acid                0.671703         -0.552496     1.000000   \n",
      "residual sugar             0.114777          0.001918     0.143577   \n",
      "chlorides                  0.093705          0.061298     0.203823   \n",
      "free sulfur dioxide       -0.153791         -0.010487    -0.060885   \n",
      "total sulfur dioxide      -0.113198          0.076479     0.035506   \n",
      "density                    0.668047          0.022026     0.364947   \n",
      "pH                        -0.682978          0.234937    -0.541904   \n",
      "sulphates                  0.183006         -0.260987     0.312770   \n",
      "alcohol                   -0.061668         -0.202288     0.109903   \n",
      "quality                    0.124052         -0.390558     0.226373   \n",
      "\n",
      "                      residual sugar  chlorides  free sulfur dioxide  \\\n",
      "fixed acidity               0.114777   0.093705            -0.153791   \n",
      "volatile acidity            0.001918   0.061298            -0.010487   \n",
      "citric acid                 0.143577   0.203823            -0.060885   \n",
      "residual sugar              1.000000   0.055610             0.187310   \n",
      "chlorides                   0.055610   1.000000             0.005627   \n",
      "free sulfur dioxide         0.187310   0.005627             1.000000   \n",
      "total sulfur dioxide        0.203048   0.047402             0.668025   \n",
      "density                     0.355283   0.200632            -0.021981   \n",
      "pH                         -0.085652  -0.265026             0.070288   \n",
      "sulphates                   0.005527   0.371260             0.051606   \n",
      "alcohol                     0.042075  -0.221141            -0.069346   \n",
      "quality                     0.013732  -0.128907            -0.050554   \n",
      "\n",
      "                      total sulfur dioxide   density        pH  sulphates  \\\n",
      "fixed acidity                    -0.113198  0.668047 -0.682978   0.183006   \n",
      "volatile acidity                  0.076479  0.022026  0.234937  -0.260987   \n",
      "citric acid                       0.035506  0.364947 -0.541904   0.312770   \n",
      "residual sugar                    0.203048  0.355283 -0.085652   0.005527   \n",
      "chlorides                         0.047402  0.200632 -0.265026   0.371260   \n",
      "free sulfur dioxide               0.668025 -0.021981  0.070288   0.051606   \n",
      "total sulfur dioxide              1.000000  0.071256 -0.066507   0.042923   \n",
      "density                           0.071256  1.000000 -0.341699   0.148506   \n",
      "pH                               -0.066507 -0.341699  1.000000  -0.196648   \n",
      "sulphates                         0.042923  0.148506 -0.196648   1.000000   \n",
      "alcohol                          -0.205667 -0.496180  0.205633   0.093595   \n",
      "quality                          -0.185112 -0.174919 -0.057731   0.251397   \n",
      "\n",
      "                       alcohol   quality  \n",
      "fixed acidity        -0.061668  0.124052  \n",
      "volatile acidity     -0.202288 -0.390558  \n",
      "citric acid           0.109903  0.226373  \n",
      "residual sugar        0.042075  0.013732  \n",
      "chlorides            -0.221141 -0.128907  \n",
      "free sulfur dioxide  -0.069346 -0.050554  \n",
      "total sulfur dioxide -0.205667 -0.185112  \n",
      "density              -0.496180 -0.174919  \n",
      "pH                    0.205633 -0.057731  \n",
      "sulphates             0.093595  0.251397  \n",
      "alcohol               1.000000  0.476166  \n",
      "quality               0.476166  1.000000  \n"
     ]
    }
   ],
   "source": [
    "## Exploracion - Para empezar a orientar el learning model\n",
    "# Empiezo a buscar insights, y yo empiezo con la matriz de correlación\n",
    "\n",
    "#Matriz de correlación - version escrita:\n",
    "correlation_matrix = df.corr()\n",
    "\n",
    "# Mostrar la matriz\n",
    "print(correlation_matrix)\n"
   ]
  },
  {
   "cell_type": "markdown",
   "metadata": {},
   "source": [
    "Preguntas e Hipótesis de Interés (partimos por lo menos con tres preguntas)\n",
    "### ¿Existe alguna relación entre las propiedades físico-químicas de los vinos y su calidad percibida?\n",
    "### ¿Qué características tienen mayor impacto en la calidad del vino?\n",
    "### ¿Cómo influencia el sulfur ratio en la calidad del vino?\n",
    "### ¿Se podrá aplicar algún algoritmo ML que permita conocer la calidad de los vinos y ver a que clase pertenece? -->"
   ]
  },
  {
   "cell_type": "markdown",
   "metadata": {},
   "source": [
    "Hipotesis 1 - ¿Existe añguna relacion entre las propiedades físico-químicas de los vinos y su calidad?"
   ]
  },
  {
   "cell_type": "code",
   "execution_count": 14,
   "metadata": {},
   "outputs": [
    {
     "data": {
      "image/png": "[encoded data removed]",
      "text/plain": [
       "<Figure size 1000x800 with 2 Axes>"
      ]
     },
     "metadata": {},
     "output_type": "display_data"
    }
   ],
   "source": [
    "## Exploracion\n",
    "#Matriz de correlacion versión visual con seaborn\n",
    "\n",
    "plt.figure(figsize=(10, 8))\n",
    "sns.heatmap(correlation_matrix, annot=True, cmap='coolwarm', fmt='.2f')\n",
    "\n",
    "plt.title('Matriz de Correlación')\n",
    "plt.show()"
   ]
  },
  {
   "cell_type": "code",
   "execution_count": 15,
   "metadata": {},
   "outputs": [
    {
     "data": {
      "text/html": [
       "\n",
       "<style>\n",
       "  #altair-viz-6554813a1bee49cdb7d1a9288ac25598.vega-embed {\n",
       "    width: 100%;\n",
       "    display: flex;\n",
       "  }\n",
       "\n",
       "  #altair-viz-6554813a1bee49cdb7d1a9288ac25598.vega-embed details,\n",
       "  #altair-viz-6554813a1bee49cdb7d1a9288ac25598.vega-embed details summary {\n",
       "    position: relative;\n",
       "  }\n",
       "</style>\n",
       "<div id=\"altair-viz-6554813a1bee49cdb7d1a9288ac25598\"></div>\n",
       "<script type=\"text/javascript\">\n",
       "  var VEGA_DEBUG = (typeof VEGA_DEBUG == \"undefined\") ? {} : VEGA_DEBUG;\n",
       "  (function(spec, embedOpt){\n",
       "    let outputDiv = document.currentScript.previousElementSibling;\n",
       "    if (outputDiv.id !== \"altair-viz-6554813a1bee49cdb7d1a9288ac25598\") {\n",
       "      outputDiv = document.getElementById(\"altair-viz-6554813a1bee49cdb7d1a9288ac25598\");\n",
       "    }\n",
       "\n",
       "    const paths = {\n",
       "      \"vega\": \"https://cdn.jsdelivr.net/npm/vega@5?noext\",\n",
       "      \"vega-lib\": \"https://cdn.jsdelivr.net/npm/vega-lib?noext\",\n",
       "      \"vega-lite\": \"https://cdn.jsdelivr.net/npm/vega-lite@5.20.1?noext\",\n",
       "      \"vega-embed\": \"https://cdn.jsdelivr.net/npm/vega-embed@6?noext\",\n",
       "    };\n",
       "\n",
       "    function maybeLoadScript(lib, version) {\n",
       "      var key = `${lib.replace(\"-\", \"\")}_version`;\n",
       "      return (VEGA_DEBUG[key] == version) ?\n",
       "        Promise.resolve(paths[lib]) :\n",
       "        new Promise(function(resolve, reject) {\n",
       "          var s = document.createElement('script');\n",
       "          document.getElementsByTagName(\"head\")[0].appendChild(s);\n",
       "          s.async = true;\n",
       "          s.onload = () => {\n",
       "            VEGA_DEBUG[key] = version;\n",
       "            return resolve(paths[lib]);\n",
       "          };\n",
       "          s.onerror = () => reject(`Error loading script: ${paths[lib]}`);\n",
       "          s.src = paths[lib];\n",
       "        });\n",
       "    }\n",
       "\n",
       "    function showError(err) {\n",
       "      outputDiv.innerHTML = `<div class=\"error\" style=\"color:red;\">${err}</div>`;\n",
       "      throw err;\n",
       "    }\n",
       "\n",
       "    function displayChart(vegaEmbed) {\n",
       "      vegaEmbed(outputDiv, spec, embedOpt)\n",
       "        .catch(err => showError(`Javascript Error: ${err.message}<br>This usually means there's a typo in your chart specification. See the javascript console for the full traceback.`));\n",
       "    }\n",
       "\n",
       "    if(typeof define === \"function\" && define.amd) {\n",
       "      requirejs.config({paths});\n",
       "      let deps = [\"vega-embed\"];\n",
       "      require(deps, displayChart, err => showError(`Error loading script: ${err.message}`));\n",
       "    } else {\n",
       "      maybeLoadScript(\"vega\", \"5\")\n",
       "        .then(() => maybeLoadScript(\"vega-lite\", \"5.20.1\"))\n",
       "        .then(() => maybeLoadScript(\"vega-embed\", \"6\"))\n",
       "        .catch(showError)\n",
       "        .then(() => displayChart(vegaEmbed));\n",
       "    }\n",
       "  })({\"config\": {\"view\": {\"continuousWidth\": 300, \"continuousHeight\": 300}}, \"data\": {\"name\": \"data-586dbe2dcd24710db3d7ae9b59e56042\"}, \"mark\": {\"type\": \"rect\"}, \"encoding\": {\"color\": {\"field\": \"Correlaci\\u00f3n\", \"scale\": {\"scheme\": \"spectral\"}, \"type\": \"quantitative\"}, \"tooltip\": [{\"field\": \"Variable1\", \"type\": \"nominal\"}, {\"field\": \"Variable2\", \"type\": \"nominal\"}, {\"field\": \"Correlaci\\u00f3n\", \"type\": \"quantitative\"}], \"x\": {\"field\": \"Variable2\", \"sort\": null, \"title\": \"\", \"type\": \"ordinal\"}, \"y\": {\"field\": \"Variable1\", \"sort\": null, \"title\": \"\", \"type\": \"ordinal\"}}, \"height\": 400, \"title\": \"Matriz de Correlaci\\u00f3n Interactiva\", \"width\": 400, \"$schema\": \"https://vega.github.io/schema/vega-lite/v5.20.1.json\", \"datasets\": {\"data-586dbe2dcd24710db3d7ae9b59e56042\": [{\"Variable1\": \"fixed acidity\", \"Variable2\": \"fixed acidity\", \"Correlaci\\u00f3n\": 1.0}, {\"Variable1\": \"volatile acidity\", \"Variable2\": \"fixed acidity\", \"Correlaci\\u00f3n\": -0.2561308947703812}, {\"Variable1\": \"citric acid\", \"Variable2\": \"fixed acidity\", \"Correlaci\\u00f3n\": 0.6717034347641064}, {\"Variable1\": \"residual sugar\", \"Variable2\": \"fixed acidity\", \"Correlaci\\u00f3n\": 0.11477672449492153}, {\"Variable1\": \"chlorides\", \"Variable2\": \"fixed acidity\", \"Correlaci\\u00f3n\": 0.09370518632130553}, {\"Variable1\": \"free sulfur dioxide\", \"Variable2\": \"fixed acidity\", \"Correlaci\\u00f3n\": -0.1537907998010542}, {\"Variable1\": \"total sulfur dioxide\", \"Variable2\": \"fixed acidity\", \"Correlaci\\u00f3n\": -0.11319818424034167}, {\"Variable1\": \"density\", \"Variable2\": \"fixed acidity\", \"Correlaci\\u00f3n\": 0.6680472921189573}, {\"Variable1\": \"pH\", \"Variable2\": \"fixed acidity\", \"Correlaci\\u00f3n\": -0.6829781945685302}, {\"Variable1\": \"sulphates\", \"Variable2\": \"fixed acidity\", \"Correlaci\\u00f3n\": 0.18300566393215362}, {\"Variable1\": \"alcohol\", \"Variable2\": \"fixed acidity\", \"Correlaci\\u00f3n\": -0.06166827063949039}, {\"Variable1\": \"quality\", \"Variable2\": \"fixed acidity\", \"Correlaci\\u00f3n\": 0.12405164911322257}, {\"Variable1\": \"fixed acidity\", \"Variable2\": \"volatile acidity\", \"Correlaci\\u00f3n\": -0.2561308947703812}, {\"Variable1\": \"volatile acidity\", \"Variable2\": \"volatile acidity\", \"Correlaci\\u00f3n\": 1.0}, {\"Variable1\": \"citric acid\", \"Variable2\": \"volatile acidity\", \"Correlaci\\u00f3n\": -0.5524956845595799}, {\"Variable1\": \"residual sugar\", \"Variable2\": \"volatile acidity\", \"Correlaci\\u00f3n\": 0.0019178819627909175}, {\"Variable1\": \"chlorides\", \"Variable2\": \"volatile acidity\", \"Correlaci\\u00f3n\": 0.061297772476461614}, {\"Variable1\": \"free sulfur dioxide\", \"Variable2\": \"volatile acidity\", \"Correlaci\\u00f3n\": -0.010486951298431222}, {\"Variable1\": \"total sulfur dioxide\", \"Variable2\": \"volatile acidity\", \"Correlaci\\u00f3n\": 0.07647947691673017}, {\"Variable1\": \"density\", \"Variable2\": \"volatile acidity\", \"Correlaci\\u00f3n\": 0.02202623219523293}, {\"Variable1\": \"pH\", \"Variable2\": \"volatile acidity\", \"Correlaci\\u00f3n\": 0.23493729440739305}, {\"Variable1\": \"sulphates\", \"Variable2\": \"volatile acidity\", \"Correlaci\\u00f3n\": -0.26098668528328917}, {\"Variable1\": \"alcohol\", \"Variable2\": \"volatile acidity\", \"Correlaci\\u00f3n\": -0.20228802714953042}, {\"Variable1\": \"quality\", \"Variable2\": \"volatile acidity\", \"Correlaci\\u00f3n\": -0.390557780264006}, {\"Variable1\": \"fixed acidity\", \"Variable2\": \"citric acid\", \"Correlaci\\u00f3n\": 0.6717034347641064}, {\"Variable1\": \"volatile acidity\", \"Variable2\": \"citric acid\", \"Correlaci\\u00f3n\": -0.5524956845595799}, {\"Variable1\": \"citric acid\", \"Variable2\": \"citric acid\", \"Correlaci\\u00f3n\": 1.0}, {\"Variable1\": \"residual sugar\", \"Variable2\": \"citric acid\", \"Correlaci\\u00f3n\": 0.14357716157031455}, {\"Variable1\": \"chlorides\", \"Variable2\": \"citric acid\", \"Correlaci\\u00f3n\": 0.20382291382904225}, {\"Variable1\": \"free sulfur dioxide\", \"Variable2\": \"citric acid\", \"Correlaci\\u00f3n\": -0.06088468548237968}, {\"Variable1\": \"total sulfur dioxide\", \"Variable2\": \"citric acid\", \"Correlaci\\u00f3n\": 0.035505919310342846}, {\"Variable1\": \"density\", \"Variable2\": \"citric acid\", \"Correlaci\\u00f3n\": 0.36494717521123443}, {\"Variable1\": \"pH\", \"Variable2\": \"citric acid\", \"Correlaci\\u00f3n\": -0.5419041447395107}, {\"Variable1\": \"sulphates\", \"Variable2\": \"citric acid\", \"Correlaci\\u00f3n\": 0.3127700438544169}, {\"Variable1\": \"alcohol\", \"Variable2\": \"citric acid\", \"Correlaci\\u00f3n\": 0.10990324663388598}, {\"Variable1\": \"quality\", \"Variable2\": \"citric acid\", \"Correlaci\\u00f3n\": 0.22637251431804045}, {\"Variable1\": \"fixed acidity\", \"Variable2\": \"residual sugar\", \"Correlaci\\u00f3n\": 0.11477672449492153}, {\"Variable1\": \"volatile acidity\", \"Variable2\": \"residual sugar\", \"Correlaci\\u00f3n\": 0.0019178819627909175}, {\"Variable1\": \"citric acid\", \"Variable2\": \"residual sugar\", \"Correlaci\\u00f3n\": 0.14357716157031455}, {\"Variable1\": \"residual sugar\", \"Variable2\": \"residual sugar\", \"Correlaci\\u00f3n\": 1.0}, {\"Variable1\": \"chlorides\", \"Variable2\": \"residual sugar\", \"Correlaci\\u00f3n\": 0.05560953520353226}, {\"Variable1\": \"free sulfur dioxide\", \"Variable2\": \"residual sugar\", \"Correlaci\\u00f3n\": 0.18730971238544494}, {\"Variable1\": \"total sulfur dioxide\", \"Variable2\": \"residual sugar\", \"Correlaci\\u00f3n\": 0.20304797141202924}, {\"Variable1\": \"density\", \"Variable2\": \"residual sugar\", \"Correlaci\\u00f3n\": 0.35528337098334967}, {\"Variable1\": \"pH\", \"Variable2\": \"residual sugar\", \"Correlaci\\u00f3n\": -0.08565242221887187}, {\"Variable1\": \"sulphates\", \"Variable2\": \"residual sugar\", \"Correlaci\\u00f3n\": 0.005527121339138446}, {\"Variable1\": \"alcohol\", \"Variable2\": \"residual sugar\", \"Correlaci\\u00f3n\": 0.04207543721174918}, {\"Variable1\": \"quality\", \"Variable2\": \"residual sugar\", \"Correlaci\\u00f3n\": 0.013731637340065779}, {\"Variable1\": \"fixed acidity\", \"Variable2\": \"chlorides\", \"Correlaci\\u00f3n\": 0.09370518632130553}, {\"Variable1\": \"volatile acidity\", \"Variable2\": \"chlorides\", \"Correlaci\\u00f3n\": 0.061297772476461614}, {\"Variable1\": \"citric acid\", \"Variable2\": \"chlorides\", \"Correlaci\\u00f3n\": 0.20382291382904225}, {\"Variable1\": \"residual sugar\", \"Variable2\": \"chlorides\", \"Correlaci\\u00f3n\": 0.05560953520353226}, {\"Variable1\": \"chlorides\", \"Variable2\": \"chlorides\", \"Correlaci\\u00f3n\": 1.0}, {\"Variable1\": \"free sulfur dioxide\", \"Variable2\": \"chlorides\", \"Correlaci\\u00f3n\": 0.005626867466748694}, {\"Variable1\": \"total sulfur dioxide\", \"Variable2\": \"chlorides\", \"Correlaci\\u00f3n\": 0.04740184733105919}, {\"Variable1\": \"density\", \"Variable2\": \"chlorides\", \"Correlaci\\u00f3n\": 0.20063232664151953}, {\"Variable1\": \"pH\", \"Variable2\": \"chlorides\", \"Correlaci\\u00f3n\": -0.2650261311732267}, {\"Variable1\": \"sulphates\", \"Variable2\": \"chlorides\", \"Correlaci\\u00f3n\": 0.3712604812854267}, {\"Variable1\": \"alcohol\", \"Variable2\": \"chlorides\", \"Correlaci\\u00f3n\": -0.2211405447889096}, {\"Variable1\": \"quality\", \"Variable2\": \"chlorides\", \"Correlaci\\u00f3n\": -0.12890655993005293}, {\"Variable1\": \"fixed acidity\", \"Variable2\": \"free sulfur dioxide\", \"Correlaci\\u00f3n\": -0.1537907998010542}, {\"Variable1\": \"volatile acidity\", \"Variable2\": \"free sulfur dioxide\", \"Correlaci\\u00f3n\": -0.010486951298431222}, {\"Variable1\": \"citric acid\", \"Variable2\": \"free sulfur dioxide\", \"Correlaci\\u00f3n\": -0.06088468548237968}, {\"Variable1\": \"residual sugar\", \"Variable2\": \"free sulfur dioxide\", \"Correlaci\\u00f3n\": 0.18730971238544494}, {\"Variable1\": \"chlorides\", \"Variable2\": \"free sulfur dioxide\", \"Correlaci\\u00f3n\": 0.005626867466748694}, {\"Variable1\": \"free sulfur dioxide\", \"Variable2\": \"free sulfur dioxide\", \"Correlaci\\u00f3n\": 1.0}, {\"Variable1\": \"total sulfur dioxide\", \"Variable2\": \"free sulfur dioxide\", \"Correlaci\\u00f3n\": 0.6680252641826124}, {\"Variable1\": \"density\", \"Variable2\": \"free sulfur dioxide\", \"Correlaci\\u00f3n\": -0.02198096359921828}, {\"Variable1\": \"pH\", \"Variable2\": \"free sulfur dioxide\", \"Correlaci\\u00f3n\": 0.0702880196757192}, {\"Variable1\": \"sulphates\", \"Variable2\": \"free sulfur dioxide\", \"Correlaci\\u00f3n\": 0.051605684304330234}, {\"Variable1\": \"alcohol\", \"Variable2\": \"free sulfur dioxide\", \"Correlaci\\u00f3n\": -0.06934605687746855}, {\"Variable1\": \"quality\", \"Variable2\": \"free sulfur dioxide\", \"Correlaci\\u00f3n\": -0.05055367566059226}, {\"Variable1\": \"fixed acidity\", \"Variable2\": \"total sulfur dioxide\", \"Correlaci\\u00f3n\": -0.11319818424034167}, {\"Variable1\": \"volatile acidity\", \"Variable2\": \"total sulfur dioxide\", \"Correlaci\\u00f3n\": 0.07647947691673017}, {\"Variable1\": \"citric acid\", \"Variable2\": \"total sulfur dioxide\", \"Correlaci\\u00f3n\": 0.035505919310342846}, {\"Variable1\": \"residual sugar\", \"Variable2\": \"total sulfur dioxide\", \"Correlaci\\u00f3n\": 0.20304797141202924}, {\"Variable1\": \"chlorides\", \"Variable2\": \"total sulfur dioxide\", \"Correlaci\\u00f3n\": 0.04740184733105919}, {\"Variable1\": \"free sulfur dioxide\", \"Variable2\": \"total sulfur dioxide\", \"Correlaci\\u00f3n\": 0.6680252641826124}, {\"Variable1\": \"total sulfur dioxide\", \"Variable2\": \"total sulfur dioxide\", \"Correlaci\\u00f3n\": 1.0}, {\"Variable1\": \"density\", \"Variable2\": \"total sulfur dioxide\", \"Correlaci\\u00f3n\": 0.0712564275800654}, {\"Variable1\": \"pH\", \"Variable2\": \"total sulfur dioxide\", \"Correlaci\\u00f3n\": -0.0665070472098859}, {\"Variable1\": \"sulphates\", \"Variable2\": \"total sulfur dioxide\", \"Correlaci\\u00f3n\": 0.04292269961683836}, {\"Variable1\": \"alcohol\", \"Variable2\": \"total sulfur dioxide\", \"Correlaci\\u00f3n\": -0.20566669952877997}, {\"Variable1\": \"quality\", \"Variable2\": \"total sulfur dioxide\", \"Correlaci\\u00f3n\": -0.18511192261948184}, {\"Variable1\": \"fixed acidity\", \"Variable2\": \"density\", \"Correlaci\\u00f3n\": 0.6680472921189573}, {\"Variable1\": \"volatile acidity\", \"Variable2\": \"density\", \"Correlaci\\u00f3n\": 0.02202623219523293}, {\"Variable1\": \"citric acid\", \"Variable2\": \"density\", \"Correlaci\\u00f3n\": 0.36494717521123443}, {\"Variable1\": \"residual sugar\", \"Variable2\": \"density\", \"Correlaci\\u00f3n\": 0.35528337098334967}, {\"Variable1\": \"chlorides\", \"Variable2\": \"density\", \"Correlaci\\u00f3n\": 0.20063232664151953}, {\"Variable1\": \"free sulfur dioxide\", \"Variable2\": \"density\", \"Correlaci\\u00f3n\": -0.02198096359921828}, {\"Variable1\": \"total sulfur dioxide\", \"Variable2\": \"density\", \"Correlaci\\u00f3n\": 0.0712564275800654}, {\"Variable1\": \"density\", \"Variable2\": \"density\", \"Correlaci\\u00f3n\": 1.0}, {\"Variable1\": \"pH\", \"Variable2\": \"density\", \"Correlaci\\u00f3n\": -0.34169933478501163}, {\"Variable1\": \"sulphates\", \"Variable2\": \"density\", \"Correlaci\\u00f3n\": 0.1485064117207901}, {\"Variable1\": \"alcohol\", \"Variable2\": \"density\", \"Correlaci\\u00f3n\": -0.4961797702445207}, {\"Variable1\": \"quality\", \"Variable2\": \"density\", \"Correlaci\\u00f3n\": -0.17491922778336458}, {\"Variable1\": \"fixed acidity\", \"Variable2\": \"pH\", \"Correlaci\\u00f3n\": -0.6829781945685302}, {\"Variable1\": \"volatile acidity\", \"Variable2\": \"pH\", \"Correlaci\\u00f3n\": 0.23493729440739305}, {\"Variable1\": \"citric acid\", \"Variable2\": \"pH\", \"Correlaci\\u00f3n\": -0.5419041447395107}, {\"Variable1\": \"residual sugar\", \"Variable2\": \"pH\", \"Correlaci\\u00f3n\": -0.08565242221887187}, {\"Variable1\": \"chlorides\", \"Variable2\": \"pH\", \"Correlaci\\u00f3n\": -0.2650261311732267}, {\"Variable1\": \"free sulfur dioxide\", \"Variable2\": \"pH\", \"Correlaci\\u00f3n\": 0.0702880196757192}, {\"Variable1\": \"total sulfur dioxide\", \"Variable2\": \"pH\", \"Correlaci\\u00f3n\": -0.0665070472098859}, {\"Variable1\": \"density\", \"Variable2\": \"pH\", \"Correlaci\\u00f3n\": -0.34169933478501163}, {\"Variable1\": \"pH\", \"Variable2\": \"pH\", \"Correlaci\\u00f3n\": 1.0}, {\"Variable1\": \"sulphates\", \"Variable2\": \"pH\", \"Correlaci\\u00f3n\": -0.19664760230436984}, {\"Variable1\": \"alcohol\", \"Variable2\": \"pH\", \"Correlaci\\u00f3n\": 0.2056325085124177}, {\"Variable1\": \"quality\", \"Variable2\": \"pH\", \"Correlaci\\u00f3n\": -0.05773139120538257}, {\"Variable1\": \"fixed acidity\", \"Variable2\": \"sulphates\", \"Correlaci\\u00f3n\": 0.18300566393215362}, {\"Variable1\": \"volatile acidity\", \"Variable2\": \"sulphates\", \"Correlaci\\u00f3n\": -0.26098668528328917}, {\"Variable1\": \"citric acid\", \"Variable2\": \"sulphates\", \"Correlaci\\u00f3n\": 0.3127700438544169}, {\"Variable1\": \"residual sugar\", \"Variable2\": \"sulphates\", \"Correlaci\\u00f3n\": 0.005527121339138446}, {\"Variable1\": \"chlorides\", \"Variable2\": \"sulphates\", \"Correlaci\\u00f3n\": 0.3712604812854267}, {\"Variable1\": \"free sulfur dioxide\", \"Variable2\": \"sulphates\", \"Correlaci\\u00f3n\": 0.051605684304330234}, {\"Variable1\": \"total sulfur dioxide\", \"Variable2\": \"sulphates\", \"Correlaci\\u00f3n\": 0.04292269961683836}, {\"Variable1\": \"density\", \"Variable2\": \"sulphates\", \"Correlaci\\u00f3n\": 0.1485064117207901}, {\"Variable1\": \"pH\", \"Variable2\": \"sulphates\", \"Correlaci\\u00f3n\": -0.19664760230436984}, {\"Variable1\": \"sulphates\", \"Variable2\": \"sulphates\", \"Correlaci\\u00f3n\": 1.0}, {\"Variable1\": \"alcohol\", \"Variable2\": \"sulphates\", \"Correlaci\\u00f3n\": 0.0935947504124477}, {\"Variable1\": \"quality\", \"Variable2\": \"sulphates\", \"Correlaci\\u00f3n\": 0.25139707906925995}, {\"Variable1\": \"fixed acidity\", \"Variable2\": \"alcohol\", \"Correlaci\\u00f3n\": -0.06166827063949039}, {\"Variable1\": \"volatile acidity\", \"Variable2\": \"alcohol\", \"Correlaci\\u00f3n\": -0.20228802714953042}, {\"Variable1\": \"citric acid\", \"Variable2\": \"alcohol\", \"Correlaci\\u00f3n\": 0.10990324663388598}, {\"Variable1\": \"residual sugar\", \"Variable2\": \"alcohol\", \"Correlaci\\u00f3n\": 0.04207543721174918}, {\"Variable1\": \"chlorides\", \"Variable2\": \"alcohol\", \"Correlaci\\u00f3n\": -0.2211405447889096}, {\"Variable1\": \"free sulfur dioxide\", \"Variable2\": \"alcohol\", \"Correlaci\\u00f3n\": -0.06934605687746855}, {\"Variable1\": \"total sulfur dioxide\", \"Variable2\": \"alcohol\", \"Correlaci\\u00f3n\": -0.20566669952877997}, {\"Variable1\": \"density\", \"Variable2\": \"alcohol\", \"Correlaci\\u00f3n\": -0.4961797702445207}, {\"Variable1\": \"pH\", \"Variable2\": \"alcohol\", \"Correlaci\\u00f3n\": 0.2056325085124177}, {\"Variable1\": \"sulphates\", \"Variable2\": \"alcohol\", \"Correlaci\\u00f3n\": 0.0935947504124477}, {\"Variable1\": \"alcohol\", \"Variable2\": \"alcohol\", \"Correlaci\\u00f3n\": 1.0}, {\"Variable1\": \"quality\", \"Variable2\": \"alcohol\", \"Correlaci\\u00f3n\": 0.4761663239995377}, {\"Variable1\": \"fixed acidity\", \"Variable2\": \"quality\", \"Correlaci\\u00f3n\": 0.12405164911322257}, {\"Variable1\": \"volatile acidity\", \"Variable2\": \"quality\", \"Correlaci\\u00f3n\": -0.390557780264006}, {\"Variable1\": \"citric acid\", \"Variable2\": \"quality\", \"Correlaci\\u00f3n\": 0.22637251431804045}, {\"Variable1\": \"residual sugar\", \"Variable2\": \"quality\", \"Correlaci\\u00f3n\": 0.013731637340065779}, {\"Variable1\": \"chlorides\", \"Variable2\": \"quality\", \"Correlaci\\u00f3n\": -0.12890655993005293}, {\"Variable1\": \"free sulfur dioxide\", \"Variable2\": \"quality\", \"Correlaci\\u00f3n\": -0.05055367566059226}, {\"Variable1\": \"total sulfur dioxide\", \"Variable2\": \"quality\", \"Correlaci\\u00f3n\": -0.18511192261948184}, {\"Variable1\": \"density\", \"Variable2\": \"quality\", \"Correlaci\\u00f3n\": -0.17491922778336458}, {\"Variable1\": \"pH\", \"Variable2\": \"quality\", \"Correlaci\\u00f3n\": -0.05773139120538257}, {\"Variable1\": \"sulphates\", \"Variable2\": \"quality\", \"Correlaci\\u00f3n\": 0.25139707906925995}, {\"Variable1\": \"alcohol\", \"Variable2\": \"quality\", \"Correlaci\\u00f3n\": 0.4761663239995377}, {\"Variable1\": \"quality\", \"Variable2\": \"quality\", \"Correlaci\\u00f3n\": 1.0}]}}, {\"mode\": \"vega-lite\"});\n",
       "</script>"
      ],
      "text/plain": [
       "alt.Chart(...)"
      ]
     },
     "metadata": {},
     "output_type": "display_data"
    }
   ],
   "source": [
    "## Exploracion\n",
    "# Matriz de corrlacion con altair\n",
    "\n",
    "correlation_matrix = df.corr().reset_index().melt(id_vars='index')\n",
    "correlation_matrix.columns = ['Variable1', 'Variable2', 'Correlación']\n",
    "\n",
    "# Crear la matriz de correlación interactiva con Altair\n",
    "heatmap = alt.Chart(correlation_matrix).mark_rect().encode(\n",
    "    x=alt.X('Variable2:O', title='', sort=None),\n",
    "    y=alt.Y('Variable1:O', title='', sort=None),\n",
    "    color=alt.Color('Correlación:Q', scale=alt.Scale(scheme='spectral')),\n",
    "    tooltip=['Variable1', 'Variable2', 'Correlación']\n",
    ").properties(\n",
    "    width=400,\n",
    "    height=400,\n",
    "    title='Matriz de Correlación Interactiva'\n",
    ")\n",
    "\n",
    "heatmap.show()\n"
   ]
  },
  {
   "cell_type": "code",
   "execution_count": 16,
   "metadata": {},
   "outputs": [
    {
     "data": {
      "image/png": "[encoded data removed]",
      "text/plain": [
       "<Figure size 1200x600 with 1 Axes>"
      ]
     },
     "metadata": {},
     "output_type": "display_data"
    }
   ],
   "source": [
    "# Group by wine quality and compute the average of each chemical property\n",
    "quality_means = df.groupby(\"quality\").mean()\n",
    "\n",
    "# Create a line chart to visualize chemical properties across wine quality levels\n",
    "plt.figure(figsize=(12, 6))  # Set figure size\n",
    "\n",
    "# Plot each chemical property as a separate line\n",
    "for property in quality_means.columns:\n",
    "    plt.plot(quality_means.index, quality_means[property], marker='o', linestyle='-', label=property)\n",
    "\n",
    "# Labels and title\n",
    "plt.xlabel(\"Wine Quality\")  # X-axis label\n",
    "plt.ylabel(\"Average Value of Chemical Properties\")  # Y-axis label\n",
    "plt.title(\"Average Chemical Properties Across Wine Quality Levels\")  # Chart title\n",
    "\n",
    "# Show legend to identify each line\n",
    "plt.legend(loc='best')\n",
    "\n",
    "# Display the plot\n",
    "plt.show()\n"
   ]
  },
  {
   "cell_type": "markdown",
   "metadata": {},
   "source": [
    "Hipotesis 1 - De acuerdo con la matriz de correlacion y el grafico de lineas, no queda clara la relacion entre las propiedades físico químicas y la calidad del vino... Por conocimiento general se estima que esta relacion existe, pero ademas juegan las propiedades organolépticas y de preservación, que no estan consideradas acá.\n",
    "\n",
    "Hipotesis 2 - ¿Qué característica tiene mayor impacto en la calidad del vino?\n",
    "    Esta hipotesis se va a resolver en varias partes... \n",
    "    1.- Correlación\n",
    "    2.- Feature Importance - más adelante\n",
    "    3.- Mutual Information - más adelante"
   ]
  },
  {
   "cell_type": "code",
   "execution_count": 27,
   "metadata": {},
   "outputs": [
    {
     "name": "stdout",
     "output_type": "stream",
     "text": [
      "alcohol                 0.48\n",
      "sulphates               0.25\n",
      "citric acid             0.23\n",
      "sulfur_ratio            0.19\n",
      "fixed acidity           0.12\n",
      "residual sugar          0.01\n",
      "free sulfur dioxide    -0.05\n",
      "pH                     -0.06\n",
      "chlorides              -0.13\n",
      "density                -0.17\n",
      "total sulfur dioxide   -0.19\n",
      "volatile acidity       -0.39\n",
      "Name: quality, dtype: float64\n"
     ]
    }
   ],
   "source": [
    "# Parte 1 - Correlacioned\n",
    "correlaciones = df.corr()\n",
    "correlaciones_rounded = correlaciones.round(2)  # redondeo\n",
    "# print(correlaciones_rounded)\n",
    "\n",
    "# Parte 2 - Correlaciones vs Calidad\n",
    "\n",
    "# Se define que las correlaciones a evaluar deben ser con respecto a la variable (columna) \"calidad\"\n",
    "    # se organizan de mayor a menor\n",
    "    # el [1:] excluye la correlacion máxima, es decir, 1:1, que resulta de correlacionar calidad con calidad. como no tiene sentido, se elimina\n",
    "    # de aca puedo ver en orden ascendente como correlacionan las cadacteristicas f/q con la calidad\n",
    "componentes_principales = correlaciones['quality'].sort_values(ascending=False)[1:]\n",
    "\n",
    "# Obtén las mejores correlaciones\n",
    "mejores_correlaciones = correlaciones_rounded.loc[componentes_principales.index,'quality']\n",
    "print(mejores_correlaciones)\n"
   ]
  },
  {
   "cell_type": "markdown",
   "metadata": {},
   "source": [
    "Hipotesis 2 - Las propiedades f/q que más influyen en la calidad del vino son el contenido de alcohol y la acidéz volátil\n",
    "\n",
    "Hipotesis 3 - ¿¿Cómo influencia el sulfur ratio en la calidad del vino?"
   ]
  },
  {
   "cell_type": "code",
   "execution_count": 24,
   "metadata": {},
   "outputs": [
    {
     "data": {
      "application/vnd.plotly.v1+json": {
       "config": {
        "plotlyServerURL": "https://plot.ly"
       },
       "data": [
        {
         "alignmentgroup": "True",
         "customdata": [
          [
           0.2128,
           0.7083
          ],
          [
           0.0531,
           0.7083
          ],
          [
           0.0806,
           0.7826
          ],
          [
           0.0227,
           0.8571
          ],
          [
           0.1315,
           0.7429
          ],
          [
           0.1364,
           0.7556
          ]
         ],
         "hovertemplate": "Wine Quality=%{x}<br>Average Sulfur Ratio=%{text}<br>min_sulfur_ratio=%{customdata[0]}<br>max_sulfur_ratio=%{customdata[1]}<extra></extra>",
         "legendgroup": "",
         "marker": {
          "color": "#636efa",
          "pattern": {
           "shape": ""
          }
         },
         "name": "",
         "offsetgroup": "",
         "orientation": "v",
         "showlegend": false,
         "text": [
          0.4366,
          0.3875,
          0.3392,
          0.4096,
          0.4361,
          0.4065
         ],
         "textposition": "auto",
         "type": "bar",
         "x": [
          3,
          4,
          5,
          6,
          7,
          8
         ],
         "xaxis": "x",
         "y": [
          0.4366,
          0.3875,
          0.3392,
          0.4096,
          0.4361,
          0.4065
         ],
         "yaxis": "y"
        }
       ],
       "layout": {
        "barmode": "relative",
        "legend": {
         "tracegroupgap": 0
        },
        "template": {
         "data": {
          "bar": [
           {
            "error_x": {
             "color": "#2a3f5f"
            },
            "error_y": {
             "color": "#2a3f5f"
            },
            "marker": {
             "line": {
              "color": "#E5ECF6",
              "width": 0.5
             },
             "pattern": {
              "fillmode": "overlay",
              "size": 10,
              "solidity": 0.2
             }
            },
            "type": "bar"
           }
          ],
          "barpolar": [
           {
            "marker": {
             "line": {
              "color": "#E5ECF6",
              "width": 0.5
             },
             "pattern": {
              "fillmode": "overlay",
              "size": 10,
              "solidity": 0.2
             }
            },
            "type": "barpolar"
           }
          ],
          "carpet": [
           {
            "aaxis": {
             "endlinecolor": "#2a3f5f",
             "gridcolor": "white",
             "linecolor": "white",
             "minorgridcolor": "white",
             "startlinecolor": "#2a3f5f"
            },
            "baxis": {
             "endlinecolor": "#2a3f5f",
             "gridcolor": "white",
             "linecolor": "white",
             "minorgridcolor": "white",
             "startlinecolor": "#2a3f5f"
            },
            "type": "carpet"
           }
          ],
          "choropleth": [
           {
            "colorbar": {
             "outlinewidth": 0,
             "ticks": ""
            },
            "type": "choropleth"
           }
          ],
          "contour": [
           {
            "colorbar": {
             "outlinewidth": 0,
             "ticks": ""
            },
            "colorscale": [
             [
              0,
              "#0d0887"
             ],
             [
              0.1111111111111111,
              "#46039f"
             ],
             [
              0.2222222222222222,
              "#7201a8"
             ],
             [
              0.3333333333333333,
              "#9c179e"
             ],
             [
              0.4444444444444444,
              "#bd3786"
             ],
             [
              0.5555555555555556,
              "#d8576b"
             ],
             [
              0.6666666666666666,
              "#ed7953"
             ],
             [
              0.7777777777777778,
              "#fb9f3a"
             ],
             [
              0.8888888888888888,
              "#fdca26"
             ],
             [
              1,
              "#f0f921"
             ]
            ],
            "type": "contour"
           }
          ],
          "contourcarpet": [
           {
            "colorbar": {
             "outlinewidth": 0,
             "ticks": ""
            },
            "type": "contourcarpet"
           }
          ],
          "heatmap": [
           {
            "colorbar": {
             "outlinewidth": 0,
             "ticks": ""
            },
            "colorscale": [
             [
              0,
              "#0d0887"
             ],
             [
              0.1111111111111111,
              "#46039f"
             ],
             [
              0.2222222222222222,
              "#7201a8"
             ],
             [
              0.3333333333333333,
              "#9c179e"
             ],
             [
              0.4444444444444444,
              "#bd3786"
             ],
             [
              0.5555555555555556,
              "#d8576b"
             ],
             [
              0.6666666666666666,
              "#ed7953"
             ],
             [
              0.7777777777777778,
              "#fb9f3a"
             ],
             [
              0.8888888888888888,
              "#fdca26"
             ],
             [
              1,
              "#f0f921"
             ]
            ],
            "type": "heatmap"
           }
          ],
          "heatmapgl": [
           {
            "colorbar": {
             "outlinewidth": 0,
             "ticks": ""
            },
            "colorscale": [
             [
              0,
              "#0d0887"
             ],
             [
              0.1111111111111111,
              "#46039f"
             ],
             [
              0.2222222222222222,
              "#7201a8"
             ],
             [
              0.3333333333333333,
              "#9c179e"
             ],
             [
              0.4444444444444444,
              "#bd3786"
             ],
             [
              0.5555555555555556,
              "#d8576b"
             ],
             [
              0.6666666666666666,
              "#ed7953"
             ],
             [
              0.7777777777777778,
              "#fb9f3a"
             ],
             [
              0.8888888888888888,
              "#fdca26"
             ],
             [
              1,
              "#f0f921"
             ]
            ],
            "type": "heatmapgl"
           }
          ],
          "histogram": [
           {
            "marker": {
             "pattern": {
              "fillmode": "overlay",
              "size": 10,
              "solidity": 0.2
             }
            },
            "type": "histogram"
           }
          ],
          "histogram2d": [
           {
            "colorbar": {
             "outlinewidth": 0,
             "ticks": ""
            },
            "colorscale": [
             [
              0,
              "#0d0887"
             ],
             [
              0.1111111111111111,
              "#46039f"
             ],
             [
              0.2222222222222222,
              "#7201a8"
             ],
             [
              0.3333333333333333,
              "#9c179e"
             ],
             [
              0.4444444444444444,
              "#bd3786"
             ],
             [
              0.5555555555555556,
              "#d8576b"
             ],
             [
              0.6666666666666666,
              "#ed7953"
             ],
             [
              0.7777777777777778,
              "#fb9f3a"
             ],
             [
              0.8888888888888888,
              "#fdca26"
             ],
             [
              1,
              "#f0f921"
             ]
            ],
            "type": "histogram2d"
           }
          ],
          "histogram2dcontour": [
           {
            "colorbar": {
             "outlinewidth": 0,
             "ticks": ""
            },
            "colorscale": [
             [
              0,
              "#0d0887"
             ],
             [
              0.1111111111111111,
              "#46039f"
             ],
             [
              0.2222222222222222,
              "#7201a8"
             ],
             [
              0.3333333333333333,
              "#9c179e"
             ],
             [
              0.4444444444444444,
              "#bd3786"
             ],
             [
              0.5555555555555556,
              "#d8576b"
             ],
             [
              0.6666666666666666,
              "#ed7953"
             ],
             [
              0.7777777777777778,
              "#fb9f3a"
             ],
             [
              0.8888888888888888,
              "#fdca26"
             ],
             [
              1,
              "#f0f921"
             ]
            ],
            "type": "histogram2dcontour"
           }
          ],
          "mesh3d": [
           {
            "colorbar": {
             "outlinewidth": 0,
             "ticks": ""
            },
            "type": "mesh3d"
           }
          ],
          "parcoords": [
           {
            "line": {
             "colorbar": {
              "outlinewidth": 0,
              "ticks": ""
             }
            },
            "type": "parcoords"
           }
          ],
          "pie": [
           {
            "automargin": true,
            "type": "pie"
           }
          ],
          "scatter": [
           {
            "fillpattern": {
             "fillmode": "overlay",
             "size": 10,
             "solidity": 0.2
            },
            "type": "scatter"
           }
          ],
          "scatter3d": [
           {
            "line": {
             "colorbar": {
              "outlinewidth": 0,
              "ticks": ""
             }
            },
            "marker": {
             "colorbar": {
              "outlinewidth": 0,
              "ticks": ""
             }
            },
            "type": "scatter3d"
           }
          ],
          "scattercarpet": [
           {
            "marker": {
             "colorbar": {
              "outlinewidth": 0,
              "ticks": ""
             }
            },
            "type": "scattercarpet"
           }
          ],
          "scattergeo": [
           {
            "marker": {
             "colorbar": {
              "outlinewidth": 0,
              "ticks": ""
             }
            },
            "type": "scattergeo"
           }
          ],
          "scattergl": [
           {
            "marker": {
             "colorbar": {
              "outlinewidth": 0,
              "ticks": ""
             }
            },
            "type": "scattergl"
           }
          ],
          "scattermapbox": [
           {
            "marker": {
             "colorbar": {
              "outlinewidth": 0,
              "ticks": ""
             }
            },
            "type": "scattermapbox"
           }
          ],
          "scatterpolar": [
           {
            "marker": {
             "colorbar": {
              "outlinewidth": 0,
              "ticks": ""
             }
            },
            "type": "scatterpolar"
           }
          ],
          "scatterpolargl": [
           {
            "marker": {
             "colorbar": {
              "outlinewidth": 0,
              "ticks": ""
             }
            },
            "type": "scatterpolargl"
           }
          ],
          "scatterternary": [
           {
            "marker": {
             "colorbar": {
              "outlinewidth": 0,
              "ticks": ""
             }
            },
            "type": "scatterternary"
           }
          ],
          "surface": [
           {
            "colorbar": {
             "outlinewidth": 0,
             "ticks": ""
            },
            "colorscale": [
             [
              0,
              "#0d0887"
             ],
             [
              0.1111111111111111,
              "#46039f"
             ],
             [
              0.2222222222222222,
              "#7201a8"
             ],
             [
              0.3333333333333333,
              "#9c179e"
             ],
             [
              0.4444444444444444,
              "#bd3786"
             ],
             [
              0.5555555555555556,
              "#d8576b"
             ],
             [
              0.6666666666666666,
              "#ed7953"
             ],
             [
              0.7777777777777778,
              "#fb9f3a"
             ],
             [
              0.8888888888888888,
              "#fdca26"
             ],
             [
              1,
              "#f0f921"
             ]
            ],
            "type": "surface"
           }
          ],
          "table": [
           {
            "cells": {
             "fill": {
              "color": "#EBF0F8"
             },
             "line": {
              "color": "white"
             }
            },
            "header": {
             "fill": {
              "color": "#C8D4E3"
             },
             "line": {
              "color": "white"
             }
            },
            "type": "table"
           }
          ]
         },
         "layout": {
          "annotationdefaults": {
           "arrowcolor": "#2a3f5f",
           "arrowhead": 0,
           "arrowwidth": 1
          },
          "autotypenumbers": "strict",
          "coloraxis": {
           "colorbar": {
            "outlinewidth": 0,
            "ticks": ""
           }
          },
          "colorscale": {
           "diverging": [
            [
             0,
             "#8e0152"
            ],
            [
             0.1,
             "#c51b7d"
            ],
            [
             0.2,
             "#de77ae"
            ],
            [
             0.3,
             "#f1b6da"
            ],
            [
             0.4,
             "#fde0ef"
            ],
            [
             0.5,
             "#f7f7f7"
            ],
            [
             0.6,
             "#e6f5d0"
            ],
            [
             0.7,
             "#b8e186"
            ],
            [
             0.8,
             "#7fbc41"
            ],
            [
             0.9,
             "#4d9221"
            ],
            [
             1,
             "#276419"
            ]
           ],
           "sequential": [
            [
             0,
             "#0d0887"
            ],
            [
             0.1111111111111111,
             "#46039f"
            ],
            [
             0.2222222222222222,
             "#7201a8"
            ],
            [
             0.3333333333333333,
             "#9c179e"
            ],
            [
             0.4444444444444444,
             "#bd3786"
            ],
            [
             0.5555555555555556,
             "#d8576b"
            ],
            [
             0.6666666666666666,
             "#ed7953"
            ],
            [
             0.7777777777777778,
             "#fb9f3a"
            ],
            [
             0.8888888888888888,
             "#fdca26"
            ],
            [
             1,
             "#f0f921"
            ]
           ],
           "sequentialminus": [
            [
             0,
             "#0d0887"
            ],
            [
             0.1111111111111111,
             "#46039f"
            ],
            [
             0.2222222222222222,
             "#7201a8"
            ],
            [
             0.3333333333333333,
             "#9c179e"
            ],
            [
             0.4444444444444444,
             "#bd3786"
            ],
            [
             0.5555555555555556,
             "#d8576b"
            ],
            [
             0.6666666666666666,
             "#ed7953"
            ],
            [
             0.7777777777777778,
             "#fb9f3a"
            ],
            [
             0.8888888888888888,
             "#fdca26"
            ],
            [
             1,
             "#f0f921"
            ]
           ]
          },
          "colorway": [
           "#636efa",
           "#EF553B",
           "#00cc96",
           "#ab63fa",
           "#FFA15A",
           "#19d3f3",
           "#FF6692",
           "#B6E880",
           "#FF97FF",
           "#FECB52"
          ],
          "font": {
           "color": "#2a3f5f"
          },
          "geo": {
           "bgcolor": "white",
           "lakecolor": "white",
           "landcolor": "#E5ECF6",
           "showlakes": true,
           "showland": true,
           "subunitcolor": "white"
          },
          "hoverlabel": {
           "align": "left"
          },
          "hovermode": "closest",
          "mapbox": {
           "style": "light"
          },
          "paper_bgcolor": "white",
          "plot_bgcolor": "#E5ECF6",
          "polar": {
           "angularaxis": {
            "gridcolor": "white",
            "linecolor": "white",
            "ticks": ""
           },
           "bgcolor": "#E5ECF6",
           "radialaxis": {
            "gridcolor": "white",
            "linecolor": "white",
            "ticks": ""
           }
          },
          "scene": {
           "xaxis": {
            "backgroundcolor": "#E5ECF6",
            "gridcolor": "white",
            "gridwidth": 2,
            "linecolor": "white",
            "showbackground": true,
            "ticks": "",
            "zerolinecolor": "white"
           },
           "yaxis": {
            "backgroundcolor": "#E5ECF6",
            "gridcolor": "white",
            "gridwidth": 2,
            "linecolor": "white",
            "showbackground": true,
            "ticks": "",
            "zerolinecolor": "white"
           },
           "zaxis": {
            "backgroundcolor": "#E5ECF6",
            "gridcolor": "white",
            "gridwidth": 2,
            "linecolor": "white",
            "showbackground": true,
            "ticks": "",
            "zerolinecolor": "white"
           }
          },
          "shapedefaults": {
           "line": {
            "color": "#2a3f5f"
           }
          },
          "ternary": {
           "aaxis": {
            "gridcolor": "white",
            "linecolor": "white",
            "ticks": ""
           },
           "baxis": {
            "gridcolor": "white",
            "linecolor": "white",
            "ticks": ""
           },
           "bgcolor": "#E5ECF6",
           "caxis": {
            "gridcolor": "white",
            "linecolor": "white",
            "ticks": ""
           }
          },
          "title": {
           "x": 0.05
          },
          "xaxis": {
           "automargin": true,
           "gridcolor": "white",
           "linecolor": "white",
           "ticks": "",
           "title": {
            "standoff": 15
           },
           "zerolinecolor": "white",
           "zerolinewidth": 2
          },
          "yaxis": {
           "automargin": true,
           "gridcolor": "white",
           "linecolor": "white",
           "ticks": "",
           "title": {
            "standoff": 15
           },
           "zerolinecolor": "white",
           "zerolinewidth": 2
          }
         }
        },
        "title": {
         "text": "Average Sulfur Ratio by Wine Quality"
        },
        "xaxis": {
         "anchor": "y",
         "domain": [
          0,
          1
         ],
         "title": {
          "text": "Wine Quality"
         }
        },
        "yaxis": {
         "anchor": "x",
         "domain": [
          0,
          1
         ],
         "title": {
          "text": "Average Sulfur Ratio"
         }
        }
       }
      }
     },
     "metadata": {},
     "output_type": "display_data"
    }
   ],
   "source": [
    "import plotly.express as px\n",
    "\n",
    "# Step 1: Create the sulfur_ratio variable (rounded to 4 decimal places)\n",
    "df[\"sulfur_ratio\"] = (df[\"free sulfur dioxide\"] / df[\"total sulfur dioxide\"]).round(4)\n",
    "\n",
    "# Step 2: Group by quality and compute mean, min, and max sulfur_ratio (rounded)\n",
    "sulfur_stats = df.groupby(\"quality\")[\"sulfur_ratio\"].agg(\n",
    "    avg_sulfur_ratio=lambda x: round(x.mean(), 4),\n",
    "    min_sulfur_ratio=lambda x: round(x.min(), 4),\n",
    "    max_sulfur_ratio=lambda x: round(x.max(), 4)\n",
    ").reset_index()\n",
    "\n",
    "# Step 3: Create an interactive bar chart\n",
    "fig = px.bar(\n",
    "    sulfur_stats, \n",
    "    x=\"quality\", \n",
    "    y=\"avg_sulfur_ratio\",\n",
    "    text=\"avg_sulfur_ratio\",\n",
    "    hover_data=[\"min_sulfur_ratio\", \"max_sulfur_ratio\"],\n",
    "    title=\"Average Sulfur Ratio by Wine Quality\",\n",
    "    labels={\"avg_sulfur_ratio\": \"Average Sulfur Ratio\", \"quality\": \"Wine Quality\"}\n",
    ")\n",
    "\n",
    "# Show the interactive chart\n",
    "fig.show()\n"
   ]
  },
  {
   "cell_type": "markdown",
   "metadata": {},
   "source": [
    "Hipotesis 3 - No hay una relacion clara entre el sulfur ratio y la calidad del vino\n",
    "\n",
    "Hipotesis 4 - Modelo de Machine Learning\n",
    "\n",
    "Se asume que la calidad del vino es una variable categórica, y no continua, por lo que se va a trabajar con:\n",
    "- Decision Tree - Calidad baja (3-4), media (5-6), alta (7-8)\n",
    "- Regresion logística "
   ]
  },
  {
   "cell_type": "code",
   "execution_count": null,
   "metadata": {},
   "outputs": [],
   "source": []
  }
 ],
 "metadata": {
  "kernelspec": {
   "display_name": "venv",
   "language": "python",
   "name": "python3"
  },
  "language_info": {
   "codemirror_mode": {
    "name": "ipython",
    "version": 3
   },
   "file_extension": ".py",
   "mimetype": "text/x-python",
   "name": "python",
   "nbconvert_exporter": "python",
   "pygments_lexer": "ipython3",
   "version": "3.12.3"
  }
 },
 "nbformat": 4,
 "nbformat_minor": 2
}
